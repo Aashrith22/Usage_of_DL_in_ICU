{
 "cells": [
  {
   "cell_type": "code",
   "execution_count": 1,
   "metadata": {},
   "outputs": [],
   "source": [
    "import warnings\n",
    "warnings.filterwarnings('ignore')"
   ]
  },
  {
   "cell_type": "code",
   "execution_count": 2,
   "metadata": {},
   "outputs": [],
   "source": [
    "# importing required libraries\n",
    "import numpy as np\n",
    "import pandas as pd\n",
    "import pickle # saving and loading trained model\n",
    "from os import path"
   ]
  },
  {
   "cell_type": "code",
   "execution_count": 3,
   "metadata": {},
   "outputs": [],
   "source": [
    "import matplotlib.pyplot as plt\n",
    "import seaborn as sns\n",
    "\n",
    "from sklearn import metrics\n",
    "from sklearn.metrics import accuracy_score # for calculating accuracy of model\n",
    "from sklearn.model_selection import train_test_split # for splitting the dataset for training and testing\n",
    "from sklearn.metrics import classification_report # for generating a classification report of model\n",
    "\n",
    "from sklearn.metrics import precision_score\n",
    "from sklearn.metrics import recall_score\n",
    "from sklearn.metrics import f1_score\n",
    "\n",
    "from sklearn.metrics import roc_auc_score"
   ]
  },
  {
   "cell_type": "code",
   "execution_count": 4,
   "metadata": {},
   "outputs": [],
   "source": [
    "train_data = pd.read_csv('archive/data01.csv')"
   ]
  },
  {
   "cell_type": "code",
   "execution_count": 5,
   "metadata": {},
   "outputs": [
    {
     "name": "stdout",
     "output_type": "stream",
     "text": [
      "<class 'pandas.core.frame.DataFrame'>\n",
      "RangeIndex: 1177 entries, 0 to 1176\n",
      "Data columns (total 51 columns):\n",
      "group                       1177 non-null int64\n",
      "ID                          1177 non-null int64\n",
      "outcome                     1176 non-null float64\n",
      "age                         1177 non-null int64\n",
      "gendera                     1177 non-null int64\n",
      "BMI                         962 non-null float64\n",
      "hypertensive                1177 non-null int64\n",
      "atrialfibrillation          1177 non-null int64\n",
      "CHD with no MI              1177 non-null int64\n",
      "diabetes                    1177 non-null int64\n",
      "deficiencyanemias           1177 non-null int64\n",
      "depression                  1177 non-null int64\n",
      "Hyperlipemia                1177 non-null int64\n",
      "Renal failure               1177 non-null int64\n",
      "COPD                        1177 non-null int64\n",
      "heart rate                  1164 non-null float64\n",
      "Systolic blood pressure     1161 non-null float64\n",
      "Diastolic blood pressure    1161 non-null float64\n",
      "Respiratory rate            1164 non-null float64\n",
      "temperature                 1158 non-null float64\n",
      "SP O2                       1164 non-null float64\n",
      "Urine output                1141 non-null float64\n",
      "hematocrit                  1177 non-null float64\n",
      "RBC                         1177 non-null float64\n",
      "MCH                         1177 non-null float64\n",
      "MCHC                        1177 non-null float64\n",
      "MCV                         1177 non-null float64\n",
      "RDW                         1177 non-null float64\n",
      "Leucocyte                   1177 non-null float64\n",
      "Platelets                   1177 non-null float64\n",
      "Neutrophils                 1033 non-null float64\n",
      "Basophils                   918 non-null float64\n",
      "Lymphocyte                  1032 non-null float64\n",
      "PT                          1157 non-null float64\n",
      "INR                         1157 non-null float64\n",
      "NT-proBNP                   1177 non-null float64\n",
      "Creatine kinase             1012 non-null float64\n",
      "Creatinine                  1177 non-null float64\n",
      "Urea nitrogen               1177 non-null float64\n",
      "glucose                     1159 non-null float64\n",
      "Blood potassium             1177 non-null float64\n",
      "Blood sodium                1177 non-null float64\n",
      "Blood calcium               1176 non-null float64\n",
      "Chloride                    1177 non-null float64\n",
      "Anion gap                   1177 non-null float64\n",
      "Magnesium ion               1177 non-null float64\n",
      "PH                          885 non-null float64\n",
      "Bicarbonate                 1177 non-null float64\n",
      "Lactic acid                 948 non-null float64\n",
      "PCO2                        883 non-null float64\n",
      "EF                          1177 non-null int64\n",
      "dtypes: float64(37), int64(14)\n",
      "memory usage: 469.1 KB\n"
     ]
    }
   ],
   "source": [
    "train_data.info()"
   ]
  },
  {
   "cell_type": "code",
   "execution_count": 6,
   "metadata": {},
   "outputs": [],
   "source": [
    "train_data[\"BMI\"].fillna(train_data[\"BMI\"].mean(), inplace=True)\n",
    "train_data[\"heart rate\"].fillna(train_data[\"heart rate\"].mean(), inplace=True)\n",
    "train_data[\"Systolic blood pressure\"].fillna(train_data[\"Systolic blood pressure\"].mean(), inplace=True)\n",
    "train_data[\"Diastolic blood pressure\"].fillna(train_data[\"Diastolic blood pressure\"].mean(), inplace=True)\n",
    "train_data[\"Respiratory rate\"].fillna(train_data[\"Respiratory rate\"].mean(), inplace=True)\n",
    "train_data[\"temperature\"].fillna(train_data[\"temperature\"].mean(), inplace=True)\n",
    "train_data[\"SP O2\"].fillna(train_data[\"SP O2\"].mean(), inplace=True)\n",
    "train_data[\"Urine output\"].fillna(train_data[\"Urine output\"].mode()[0], inplace=True)\n",
    "train_data[\"Neutrophils\"].fillna(train_data[\"Neutrophils\"].mean(), inplace=True)\n",
    "train_data[\"Basophils\"].fillna(train_data[\"Basophils\"].mean(), inplace=True)\n",
    "train_data[\"Lymphocyte\"].fillna(train_data[\"Lymphocyte\"].mean(), inplace=True)\n",
    "train_data[\"PT\"].fillna(train_data[\"PT\"].mean(), inplace=True)\n",
    "train_data[\"Creatine kinase\"].fillna(train_data[\"Creatine kinase\"].mean(), inplace=True)\n",
    "train_data[\"glucose\"].fillna(train_data[\"glucose\"].mean(), inplace=True)\n",
    "train_data[\"PH\"].fillna(train_data[\"PH\"].mean(), inplace=True)\n",
    "train_data[\"Lactic acid\"].fillna(train_data[\"Lactic acid\"].mean(), inplace=True)\n",
    "train_data[\"PCO2\"].fillna(train_data[\"PCO2\"].mean(), inplace=True)"
   ]
  },
  {
   "cell_type": "code",
   "execution_count": 7,
   "metadata": {},
   "outputs": [],
   "source": [
    "train_data = train_data.dropna(how=\"any\")"
   ]
  },
  {
   "cell_type": "code",
   "execution_count": 8,
   "metadata": {},
   "outputs": [],
   "source": [
    "train_data.drop([\"group\", \"ID\"], axis=1, inplace=True)"
   ]
  },
  {
   "cell_type": "code",
   "execution_count": 9,
   "metadata": {},
   "outputs": [
    {
     "name": "stdout",
     "output_type": "stream",
     "text": [
      "<class 'pandas.core.frame.DataFrame'>\n",
      "Int64Index: 1155 entries, 0 to 1176\n",
      "Data columns (total 49 columns):\n",
      "outcome                     1155 non-null float64\n",
      "age                         1155 non-null int64\n",
      "gendera                     1155 non-null int64\n",
      "BMI                         1155 non-null float64\n",
      "hypertensive                1155 non-null int64\n",
      "atrialfibrillation          1155 non-null int64\n",
      "CHD with no MI              1155 non-null int64\n",
      "diabetes                    1155 non-null int64\n",
      "deficiencyanemias           1155 non-null int64\n",
      "depression                  1155 non-null int64\n",
      "Hyperlipemia                1155 non-null int64\n",
      "Renal failure               1155 non-null int64\n",
      "COPD                        1155 non-null int64\n",
      "heart rate                  1155 non-null float64\n",
      "Systolic blood pressure     1155 non-null float64\n",
      "Diastolic blood pressure    1155 non-null float64\n",
      "Respiratory rate            1155 non-null float64\n",
      "temperature                 1155 non-null float64\n",
      "SP O2                       1155 non-null float64\n",
      "Urine output                1155 non-null float64\n",
      "hematocrit                  1155 non-null float64\n",
      "RBC                         1155 non-null float64\n",
      "MCH                         1155 non-null float64\n",
      "MCHC                        1155 non-null float64\n",
      "MCV                         1155 non-null float64\n",
      "RDW                         1155 non-null float64\n",
      "Leucocyte                   1155 non-null float64\n",
      "Platelets                   1155 non-null float64\n",
      "Neutrophils                 1155 non-null float64\n",
      "Basophils                   1155 non-null float64\n",
      "Lymphocyte                  1155 non-null float64\n",
      "PT                          1155 non-null float64\n",
      "INR                         1155 non-null float64\n",
      "NT-proBNP                   1155 non-null float64\n",
      "Creatine kinase             1155 non-null float64\n",
      "Creatinine                  1155 non-null float64\n",
      "Urea nitrogen               1155 non-null float64\n",
      "glucose                     1155 non-null float64\n",
      "Blood potassium             1155 non-null float64\n",
      "Blood sodium                1155 non-null float64\n",
      "Blood calcium               1155 non-null float64\n",
      "Chloride                    1155 non-null float64\n",
      "Anion gap                   1155 non-null float64\n",
      "Magnesium ion               1155 non-null float64\n",
      "PH                          1155 non-null float64\n",
      "Bicarbonate                 1155 non-null float64\n",
      "Lactic acid                 1155 non-null float64\n",
      "PCO2                        1155 non-null float64\n",
      "EF                          1155 non-null int64\n",
      "dtypes: float64(37), int64(12)\n",
      "memory usage: 451.2 KB\n"
     ]
    }
   ],
   "source": [
    "train_data.info()"
   ]
  },
  {
   "cell_type": "code",
   "execution_count": 10,
   "metadata": {},
   "outputs": [
    {
     "data": {
      "text/plain": [
       "0.0    997\n",
       "1.0    158\n",
       "Name: outcome, dtype: int64"
      ]
     },
     "execution_count": 10,
     "metadata": {},
     "output_type": "execute_result"
    }
   ],
   "source": [
    "# number of attack labels \n",
    "train_data['outcome'].value_counts()"
   ]
  },
  {
   "cell_type": "code",
   "execution_count": 11,
   "metadata": {},
   "outputs": [
    {
     "data": {
      "image/png": "[encoded data removed]",
      "text/plain": [
       "<Figure size 360x360 with 1 Axes>"
      ]
     },
     "metadata": {},
     "output_type": "display_data"
    }
   ],
   "source": [
    "labels = train_data['outcome'].value_counts().index\n",
    "sizes = train_data['outcome'].value_counts().values\n",
    "\n",
    "plt.figure(figsize=(5, 5))\n",
    "plt.pie(sizes, labels=labels, autopct='%1.1f%%', startangle=140)\n",
    "plt.axis('equal') \n",
    "plt.title('Class Distribution')\n",
    "plt.show()"
   ]
  },
  {
   "cell_type": "code",
   "execution_count": 12,
   "metadata": {},
   "outputs": [
    {
     "data": {
      "text/plain": [
       "Text(0.5, 1, 'Correlation Matrix')"
      ]
     },
     "execution_count": 12,
     "metadata": {},
     "output_type": "execute_result"
    },
    {
     "data": {
      "image/png": "[encoded data removed]",
      "text/plain": [
       "<Figure size 1008x504 with 2 Axes>"
      ]
     },
     "metadata": {
      "needs_background": "light"
     },
     "output_type": "display_data"
    }
   ],
   "source": [
    "fig,ax=plt.subplots(1,1,figsize=(14,7))\n",
    "sns.heatmap(train_data.corr(), square=True, center=0.5, yticklabels=False).set_title('Correlation Matrix')"
   ]
  },
  {
   "cell_type": "code",
   "execution_count": 165,
   "metadata": {},
   "outputs": [],
   "source": [
    "X = train_data.drop([\"outcome\"],axis =1)\n",
    "y = train_data[\"outcome\"]"
   ]
  },
  {
   "cell_type": "code",
   "execution_count": 174,
   "metadata": {},
   "outputs": [
    {
     "data": {
      "text/plain": [
       "(1155, 17)"
      ]
     },
     "execution_count": 174,
     "metadata": {},
     "output_type": "execute_result"
    }
   ],
   "source": [
    "from sklearn.feature_selection import SelectKBest, SelectPercentile, mutual_info_classif\n",
    "\n",
    "selector = SelectPercentile(mutual_info_classif, percentile=35)\n",
    "X_reduced = selector.fit_transform(X, y)\n",
    "X_reduced.shape\n"
   ]
  },
  {
   "cell_type": "code",
   "execution_count": 176,
   "metadata": {},
   "outputs": [],
   "source": [
    "cols = selector.get_support(indices=True)\n",
    "selected_columns = X.iloc[:,cols].columns.tolist()\n",
    "#selected_columns"
   ]
  },
  {
   "cell_type": "code",
   "execution_count": 62,
   "metadata": {},
   "outputs": [],
   "source": [
    "df = train_data[['gendera',\n",
    " 'deficiencyanemias',\n",
    " 'depression',\n",
    " 'COPD',\n",
    " 'heart rate',\n",
    " 'temperature',\n",
    " 'Urine output',\n",
    " 'Leucocyte',\n",
    " 'Lymphocyte',\n",
    " 'PT',\n",
    " 'Urea nitrogen',\n",
    " 'Blood sodium',\n",
    " 'Anion gap',\n",
    " 'PH',\n",
    " 'Bicarbonate',\n",
    " 'Lactic acid',\n",
    " 'PCO2',\n",
    "                  'outcome']]\n",
    "df.to_csv('processed.csv')"
   ]
  },
  {
   "cell_type": "markdown",
   "metadata": {},
   "source": [
    "# SMOTE Sampling"
   ]
  },
  {
   "cell_type": "code",
   "execution_count": 80,
   "metadata": {},
   "outputs": [],
   "source": [
    "from imblearn.over_sampling import SMOTE"
   ]
  },
  {
   "cell_type": "code",
   "execution_count": 81,
   "metadata": {},
   "outputs": [],
   "source": [
    "sm = SMOTE(random_state=42)"
   ]
  },
  {
   "cell_type": "code",
   "execution_count": 94,
   "metadata": {},
   "outputs": [],
   "source": [
    "X_res, y_res = sm.fit_resample(X_reduced,y)"
   ]
  },
  {
   "cell_type": "code",
   "execution_count": 161,
   "metadata": {},
   "outputs": [],
   "source": [
    "# splitting the dataset 80% for training and 20% testing\n",
    "X_train, X_test, y_train, y_test = train_test_split(X_res, y_res, test_size=0.20, random_state=42)"
   ]
  },
  {
   "cell_type": "code",
   "execution_count": 142,
   "metadata": {},
   "outputs": [],
   "source": [
    "ML_Model = []\n",
    "accuracy = []\n",
    "precision = []\n",
    "recall = []\n",
    "f1score = []\n",
    "\n",
    "\n",
    "#function to call for storing the results\n",
    "def storeResults(model, a,b,c,d):\n",
    "    ML_Model.append(model)\n",
    "    accuracy.append(round(a, 3))\n",
    "    precision.append(round(b, 3))\n",
    "    recall.append(round(c, 3))\n",
    "    f1score.append(round(d, 3))"
   ]
  },
  {
   "cell_type": "markdown",
   "metadata": {},
   "source": [
    "# Logistic Regression"
   ]
  },
  {
   "cell_type": "code",
   "execution_count": 96,
   "metadata": {},
   "outputs": [],
   "source": [
    "from sklearn.linear_model import LogisticRegression\n",
    "lr = LogisticRegression()\n",
    "\n",
    "lr.fit(X_train, y_train)\n",
    "\n",
    "y_pred = lr.predict(X_test)\n",
    "\n",
    "lr_acc = accuracy_score(y_pred, y_test)\n",
    "lr_prec = precision_score(y_pred, y_test,average='weighted')\n",
    "lr_rec = recall_score(y_pred, y_test,average='weighted')\n",
    "lr_f1 = f1_score(y_pred, y_test,average='weighted')"
   ]
  },
  {
   "cell_type": "code",
   "execution_count": 143,
   "metadata": {},
   "outputs": [],
   "source": [
    "storeResults('Logistic Regression',lr_acc,lr_prec,lr_rec,lr_f1)"
   ]
  },
  {
   "cell_type": "markdown",
   "metadata": {},
   "source": [
    "# Random Forest"
   ]
  },
  {
   "cell_type": "code",
   "execution_count": 98,
   "metadata": {},
   "outputs": [],
   "source": [
    "from sklearn.ensemble import RandomForestClassifier\n",
    "\n",
    "# instantiate the model \n",
    "forest = RandomForestClassifier()\n",
    "forest.fit(X_train, y_train)\n",
    "\n",
    "y_pred = forest.predict(X_test)\n",
    "\n",
    "rf_acc = accuracy_score(y_pred, y_test)\n",
    "rf_prec = precision_score(y_pred, y_test,average='weighted')\n",
    "rf_rec = recall_score(y_pred, y_test,average='weighted')\n",
    "rf_f1 = f1_score(y_pred, y_test,average='weighted')"
   ]
  },
  {
   "cell_type": "code",
   "execution_count": 144,
   "metadata": {},
   "outputs": [],
   "source": [
    "storeResults('Random FOrest',rf_acc,rf_prec,rf_rec,rf_f1)"
   ]
  },
  {
   "cell_type": "markdown",
   "metadata": {},
   "source": [
    "# XGBoost"
   ]
  },
  {
   "cell_type": "code",
   "execution_count": 100,
   "metadata": {},
   "outputs": [],
   "source": [
    "from xgboost import XGBClassifier\n",
    "xgb = XGBClassifier(random_state=0)\n",
    "\n",
    "xgb.fit(X_train, y_train)\n",
    "\n",
    "y_pred = xgb.predict(X_test)\n",
    "\n",
    "xgb_acc = accuracy_score(y_pred, y_test)\n",
    "xgb_prec = precision_score(y_pred, y_test,average='weighted')\n",
    "xgb_rec = recall_score(y_pred, y_test,average='weighted')\n",
    "xgb_f1 = f1_score(y_pred, y_test,average='weighted')"
   ]
  },
  {
   "cell_type": "code",
   "execution_count": 145,
   "metadata": {},
   "outputs": [],
   "source": [
    "storeResults('XGBoost',xgb_acc,xgb_prec,xgb_rec,xgb_f1)"
   ]
  },
  {
   "cell_type": "markdown",
   "metadata": {},
   "source": [
    "# Stacking Classifier"
   ]
  },
  {
   "cell_type": "code",
   "execution_count": 101,
   "metadata": {},
   "outputs": [],
   "source": [
    "from sklearn.ensemble import RandomForestClassifier\n",
    "from sklearn.neural_network import MLPClassifier\n",
    "from lightgbm import LGBMClassifier\n",
    "from sklearn.ensemble import StackingClassifier\n",
    "\n",
    "estimators = [('rf', RandomForestClassifier(n_estimators=10)),('mlp', MLPClassifier(random_state=1, max_iter=30))]\n",
    "\n",
    "clf = StackingClassifier(estimators=estimators, final_estimator=LGBMClassifier(n_estimators=10))\n",
    "\n",
    "\n",
    "clf.fit(X_train,y_train)\n",
    "\n",
    "y_pred = clf.predict(X_test)\n",
    "\n",
    "stac_acc = accuracy_score(y_pred, y_test)\n",
    "stac_prec = precision_score(y_pred, y_test,average='weighted')\n",
    "stac_rec = recall_score(y_pred, y_test,average='weighted')\n",
    "stac_f1 = f1_score(y_pred, y_test,average='weighted')\n"
   ]
  },
  {
   "cell_type": "code",
   "execution_count": 155,
   "metadata": {},
   "outputs": [],
   "source": [
    "storeResults('Stacking Classifier',stac_acc,stac_prec,stac_rec,stac_f1)"
   ]
  },
  {
   "cell_type": "markdown",
   "metadata": {},
   "source": [
    "# Voting Classifier"
   ]
  },
  {
   "cell_type": "code",
   "execution_count": 103,
   "metadata": {},
   "outputs": [],
   "source": [
    "from sklearn.ensemble import RandomForestClassifier, VotingClassifier, AdaBoostClassifier\n",
    "clf1 = AdaBoostClassifier()\n",
    "clf2 = RandomForestClassifier()\n",
    "\n",
    "eclf1 = VotingClassifier(estimators=[('ad', clf1), ('rf', clf2)], voting='soft')\n",
    "eclf1.fit(X_train, y_train)\n",
    "y_pred = eclf1.predict(X_test)\n",
    "\n",
    "vot_acc = accuracy_score(y_pred, y_test)\n",
    "vot_prec = precision_score(y_pred, y_test,average='weighted')\n",
    "vot_rec = recall_score(y_pred, y_test,average='weighted')\n",
    "vot_f1 = f1_score(y_pred, y_test,average='weighted')"
   ]
  },
  {
   "cell_type": "code",
   "execution_count": 156,
   "metadata": {},
   "outputs": [],
   "source": [
    "storeResults('Voting Classifier',vot_acc,vot_prec,vot_rec,vot_f1)"
   ]
  },
  {
   "cell_type": "markdown",
   "metadata": {},
   "source": [
    "DL"
   ]
  },
  {
   "cell_type": "code",
   "execution_count": 113,
   "metadata": {},
   "outputs": [],
   "source": [
    "from keras.callbacks import EarlyStopping\n",
    "from keras.utils import np_utils\n",
    "from keras.callbacks import ModelCheckpoint\n",
    "from sklearn.metrics import accuracy_score\n",
    "from sklearn.metrics import classification_report, confusion_matrix\n",
    "from keras.models import Sequential\n",
    "from keras.utils import np_utils\n",
    "from keras.layers import SimpleRNN,LSTM,GRU, Dense, Embedding, Dropout,Input, Attention, Layer, Concatenate, Permute, Dot, Multiply, Flatten\n",
    "from keras.layers import RepeatVector, Dense, Activation, Lambda\n",
    "from keras.models import Sequential\n",
    "from keras import backend as K, regularizers, Model, metrics\n",
    "from keras.backend import cast"
   ]
  },
  {
   "cell_type": "code",
   "execution_count": 106,
   "metadata": {},
   "outputs": [],
   "source": [
    "from sklearn.preprocessing import StandardScaler\n",
    "## Standardizing the data\n",
    "X_r2 = StandardScaler().fit_transform(X_res)"
   ]
  },
  {
   "cell_type": "code",
   "execution_count": 107,
   "metadata": {},
   "outputs": [],
   "source": [
    "X_train,X_test,y_train,y_test = train_test_split(X_r2, y_res, test_size=0.3)"
   ]
  },
  {
   "cell_type": "code",
   "execution_count": 108,
   "metadata": {},
   "outputs": [],
   "source": [
    "# design network\n",
    "np.random.seed(7)\n",
    "\n",
    "# X_train et X_val sont des dataframe qui contient les features\n",
    "train_X=X_train\n",
    "val_X=X_test"
   ]
  },
  {
   "cell_type": "code",
   "execution_count": 109,
   "metadata": {},
   "outputs": [],
   "source": [
    "## Reshape input to be 3D [samples, timesteps, features] (format requis par LSTM)\n",
    "train_X = train_X.reshape((train_X.shape[0], 1, train_X.shape[1]))\n",
    "val_X = val_X.reshape((val_X.shape[0], 1, val_X.shape[1]))"
   ]
  },
  {
   "cell_type": "code",
   "execution_count": 110,
   "metadata": {},
   "outputs": [],
   "source": [
    "## Recuperation des labels\n",
    "train_y=y_train\n",
    "val_y=y_test"
   ]
  },
  {
   "cell_type": "markdown",
   "metadata": {},
   "source": [
    "# RNN"
   ]
  },
  {
   "cell_type": "code",
   "execution_count": 111,
   "metadata": {},
   "outputs": [],
   "source": [
    "class attention(Layer):\n",
    "    def __init__(self,**kwargs):\n",
    "        super(attention,self).__init__(**kwargs)\n",
    "\n",
    "    def build(self,input_shape):\n",
    "        self.W=self.add_weight(name=\"att_weight\",shape=(input_shape[-1],1),initializer=\"normal\")\n",
    "        self.b=self.add_weight(name=\"att_bias\",shape=(input_shape[1],1),initializer=\"zeros\")        \n",
    "        super(attention, self).build(input_shape)\n",
    "\n",
    "    def call(self,x):\n",
    "        et=K.squeeze(K.tanh(K.dot(x,self.W)+self.b),axis=-1)\n",
    "        at=K.softmax(et)\n",
    "        at=K.expand_dims(at,axis=-1)\n",
    "        output=x*at\n",
    "        return K.sum(output,axis=1)\n",
    "\n",
    "    def compute_output_shape(self,input_shape):\n",
    "        return (input_shape[0],input_shape[-1])\n",
    "\n",
    "    def get_config(self):\n",
    "        return super(attention,self).get_config()"
   ]
  },
  {
   "cell_type": "code",
   "execution_count": 118,
   "metadata": {},
   "outputs": [],
   "source": [
    "inputs1=Input((1,17))\n",
    "att_in=SimpleRNN(50,return_sequences=True,dropout=0.3,recurrent_dropout=0.2)(inputs1)\n",
    "att_in_1=SimpleRNN(50,return_sequences=True,dropout=0.3,recurrent_dropout=0.2)(att_in)\n",
    "att_out=attention()(att_in_1)\n",
    "outputs1=Dense(1,activation='sigmoid',trainable=True)(att_out)\n",
    "model1=Model(inputs1,outputs1)"
   ]
  },
  {
   "cell_type": "code",
   "execution_count": 119,
   "metadata": {},
   "outputs": [],
   "source": [
    "model1.compile(loss='binary_crossentropy', optimizer='adam', metrics=['accuracy'])"
   ]
  },
  {
   "cell_type": "code",
   "execution_count": 122,
   "metadata": {},
   "outputs": [
    {
     "name": "stdout",
     "output_type": "stream",
     "text": [
      "Epoch 1/50\n",
      "698/698 [==============================] - 1s 2ms/step - loss: 0.5359 - accuracy: 0.7297 - val_loss: 0.5003 - val_accuracy: 0.7579\n",
      "Epoch 2/50\n",
      "698/698 [==============================] - 1s 2ms/step - loss: 0.5192 - accuracy: 0.7477 - val_loss: 0.4886 - val_accuracy: 0.7696\n",
      "Epoch 3/50\n",
      "698/698 [==============================] - 1s 2ms/step - loss: 0.5303 - accuracy: 0.7305 - val_loss: 0.4845 - val_accuracy: 0.7730\n",
      "Epoch 4/50\n",
      "698/698 [==============================] - 2s 3ms/step - loss: 0.5158 - accuracy: 0.7520 - val_loss: 0.4754 - val_accuracy: 0.7763\n",
      "Epoch 5/50\n",
      "698/698 [==============================] - 2s 4ms/step - loss: 0.5220 - accuracy: 0.7319 - val_loss: 0.4744 - val_accuracy: 0.7730\n",
      "Epoch 6/50\n",
      "698/698 [==============================] - 3s 4ms/step - loss: 0.5127 - accuracy: 0.7556 - val_loss: 0.4758 - val_accuracy: 0.7713\n",
      "Epoch 7/50\n",
      "698/698 [==============================] - 2s 3ms/step - loss: 0.5031 - accuracy: 0.7606 - val_loss: 0.4565 - val_accuracy: 0.7830\n",
      "Epoch 8/50\n",
      "698/698 [==============================] - 3s 4ms/step - loss: 0.4865 - accuracy: 0.7649 - val_loss: 0.4730 - val_accuracy: 0.7780\n",
      "Epoch 9/50\n",
      "698/698 [==============================] - 3s 4ms/step - loss: 0.4927 - accuracy: 0.7491 - val_loss: 0.4704 - val_accuracy: 0.7780\n",
      "Epoch 10/50\n",
      "698/698 [==============================] - 3s 4ms/step - loss: 0.5007 - accuracy: 0.7570 - val_loss: 0.4556 - val_accuracy: 0.7746\n",
      "Epoch 11/50\n",
      "698/698 [==============================] - 3s 4ms/step - loss: 0.4911 - accuracy: 0.7677 - val_loss: 0.4549 - val_accuracy: 0.7813\n",
      "Epoch 12/50\n",
      "698/698 [==============================] - 3s 4ms/step - loss: 0.4885 - accuracy: 0.7677 - val_loss: 0.4428 - val_accuracy: 0.7846\n",
      "Epoch 13/50\n",
      "698/698 [==============================] - 2s 3ms/step - loss: 0.4828 - accuracy: 0.7649 - val_loss: 0.4567 - val_accuracy: 0.7896\n",
      "Epoch 14/50\n",
      "698/698 [==============================] - 2s 3ms/step - loss: 0.4927 - accuracy: 0.7548 - val_loss: 0.4521 - val_accuracy: 0.7997\n",
      "Epoch 15/50\n",
      "698/698 [==============================] - 3s 4ms/step - loss: 0.4767 - accuracy: 0.7742 - val_loss: 0.4430 - val_accuracy: 0.7997\n",
      "Epoch 16/50\n",
      "698/698 [==============================] - 2s 3ms/step - loss: 0.4693 - accuracy: 0.7663 - val_loss: 0.4435 - val_accuracy: 0.8013\n",
      "Epoch 17/50\n",
      "698/698 [==============================] - 2s 3ms/step - loss: 0.4705 - accuracy: 0.7656 - val_loss: 0.4464 - val_accuracy: 0.7930\n",
      "Epoch 18/50\n",
      "698/698 [==============================] - 2s 3ms/step - loss: 0.4594 - accuracy: 0.7849 - val_loss: 0.4438 - val_accuracy: 0.8013\n",
      "Epoch 19/50\n",
      "698/698 [==============================] - 2s 3ms/step - loss: 0.4723 - accuracy: 0.7728 - val_loss: 0.4199 - val_accuracy: 0.8214\n",
      "Epoch 20/50\n",
      "698/698 [==============================] - 2s 3ms/step - loss: 0.4565 - accuracy: 0.7871 - val_loss: 0.4203 - val_accuracy: 0.8080\n",
      "Epoch 21/50\n",
      "698/698 [==============================] - 2s 3ms/step - loss: 0.4839 - accuracy: 0.7706 - val_loss: 0.4227 - val_accuracy: 0.8080\n",
      "Epoch 22/50\n",
      "698/698 [==============================] - 2s 3ms/step - loss: 0.4817 - accuracy: 0.7663 - val_loss: 0.4230 - val_accuracy: 0.8097\n",
      "Epoch 23/50\n",
      "698/698 [==============================] - 3s 4ms/step - loss: 0.4699 - accuracy: 0.7706 - val_loss: 0.4410 - val_accuracy: 0.7980\n",
      "Epoch 24/50\n",
      "698/698 [==============================] - 2s 3ms/step - loss: 0.4542 - accuracy: 0.7799 - val_loss: 0.4084 - val_accuracy: 0.8147\n",
      "Epoch 25/50\n",
      "698/698 [==============================] - 2s 3ms/step - loss: 0.4630 - accuracy: 0.7842 - val_loss: 0.4152 - val_accuracy: 0.8047\n",
      "Epoch 26/50\n",
      "698/698 [==============================] - 3s 4ms/step - loss: 0.4528 - accuracy: 0.7935 - val_loss: 0.4256 - val_accuracy: 0.8164\n",
      "Epoch 27/50\n",
      "698/698 [==============================] - 2s 4ms/step - loss: 0.4587 - accuracy: 0.7785 - val_loss: 0.4092 - val_accuracy: 0.8414\n",
      "Epoch 28/50\n",
      "698/698 [==============================] - 3s 4ms/step - loss: 0.4326 - accuracy: 0.7885 - val_loss: 0.4164 - val_accuracy: 0.8264\n",
      "Epoch 29/50\n",
      "698/698 [==============================] - 2s 3ms/step - loss: 0.4481 - accuracy: 0.7928 - val_loss: 0.3991 - val_accuracy: 0.8297\n",
      "Epoch 30/50\n",
      "698/698 [==============================] - 2s 3ms/step - loss: 0.4639 - accuracy: 0.7864 - val_loss: 0.4142 - val_accuracy: 0.8230\n",
      "Epoch 31/50\n",
      "698/698 [==============================] - 2s 3ms/step - loss: 0.4520 - accuracy: 0.7842 - val_loss: 0.3983 - val_accuracy: 0.8264\n",
      "Epoch 32/50\n",
      "698/698 [==============================] - 2s 3ms/step - loss: 0.4555 - accuracy: 0.7914 - val_loss: 0.4096 - val_accuracy: 0.8264\n",
      "Epoch 33/50\n",
      "698/698 [==============================] - 2s 3ms/step - loss: 0.4317 - accuracy: 0.8036 - val_loss: 0.4104 - val_accuracy: 0.8197\n",
      "Epoch 34/50\n",
      "698/698 [==============================] - 2s 3ms/step - loss: 0.4520 - accuracy: 0.7756 - val_loss: 0.4152 - val_accuracy: 0.8063\n",
      "Epoch 35/50\n",
      "698/698 [==============================] - 2s 3ms/step - loss: 0.4354 - accuracy: 0.8007 - val_loss: 0.4347 - val_accuracy: 0.7880\n",
      "Epoch 36/50\n",
      "698/698 [==============================] - 2s 3ms/step - loss: 0.4475 - accuracy: 0.7828 - val_loss: 0.4134 - val_accuracy: 0.8230\n",
      "Epoch 37/50\n",
      "698/698 [==============================] - 2s 3ms/step - loss: 0.4497 - accuracy: 0.7771 - val_loss: 0.4059 - val_accuracy: 0.8280\n",
      "Epoch 38/50\n",
      "698/698 [==============================] - 2s 3ms/step - loss: 0.4455 - accuracy: 0.8007 - val_loss: 0.4006 - val_accuracy: 0.8214\n",
      "Epoch 39/50\n",
      "698/698 [==============================] - 2s 3ms/step - loss: 0.4379 - accuracy: 0.7993 - val_loss: 0.4066 - val_accuracy: 0.8214\n",
      "Epoch 40/50\n",
      "698/698 [==============================] - 2s 3ms/step - loss: 0.4530 - accuracy: 0.7713 - val_loss: 0.4013 - val_accuracy: 0.8331\n",
      "Epoch 41/50\n",
      "698/698 [==============================] - 2s 3ms/step - loss: 0.4234 - accuracy: 0.8043 - val_loss: 0.4087 - val_accuracy: 0.8214\n",
      "Epoch 42/50\n",
      "698/698 [==============================] - 2s 3ms/step - loss: 0.4311 - accuracy: 0.7921 - val_loss: 0.3965 - val_accuracy: 0.8314\n",
      "Epoch 43/50\n",
      "698/698 [==============================] - 2s 3ms/step - loss: 0.4194 - accuracy: 0.8029 - val_loss: 0.3968 - val_accuracy: 0.8264\n",
      "Epoch 44/50\n",
      "698/698 [==============================] - 2s 3ms/step - loss: 0.4353 - accuracy: 0.8050 - val_loss: 0.3688 - val_accuracy: 0.8431\n",
      "Epoch 45/50\n",
      "698/698 [==============================] - 2s 3ms/step - loss: 0.4438 - accuracy: 0.7857 - val_loss: 0.4092 - val_accuracy: 0.8230\n",
      "Epoch 46/50\n",
      "698/698 [==============================] - 2s 3ms/step - loss: 0.4312 - accuracy: 0.8029 - val_loss: 0.3864 - val_accuracy: 0.8397\n",
      "Epoch 47/50\n",
      "698/698 [==============================] - 2s 3ms/step - loss: 0.4189 - accuracy: 0.8000 - val_loss: 0.4114 - val_accuracy: 0.8230\n",
      "Epoch 48/50\n",
      "698/698 [==============================] - 2s 3ms/step - loss: 0.4198 - accuracy: 0.8022 - val_loss: 0.4270 - val_accuracy: 0.8080\n",
      "Epoch 49/50\n",
      "698/698 [==============================] - 2s 3ms/step - loss: 0.4334 - accuracy: 0.8000 - val_loss: 0.3930 - val_accuracy: 0.8247\n",
      "Epoch 50/50\n",
      "698/698 [==============================] - 2s 3ms/step - loss: 0.4349 - accuracy: 0.8093 - val_loss: 0.4061 - val_accuracy: 0.8080\n"
     ]
    }
   ],
   "source": [
    "history=model1.fit(train_X, train_y,epochs=50,batch_size=2, validation_data=(val_X, val_y))"
   ]
  },
  {
   "cell_type": "code",
   "execution_count": 123,
   "metadata": {},
   "outputs": [
    {
     "name": "stdout",
     "output_type": "stream",
     "text": [
      "Train: 0.895, Test: 0.808\n"
     ]
    }
   ],
   "source": [
    "# evaluate the model\n",
    "_, train_acc = model1.evaluate(train_X, train_y, verbose=0)\n",
    "_, test_acc = model1.evaluate(val_X, val_y, verbose=0)\n",
    "print('Train: %.3f, Test: %.3f' % (train_acc, test_acc))"
   ]
  },
  {
   "cell_type": "code",
   "execution_count": 124,
   "metadata": {},
   "outputs": [
    {
     "name": "stdout",
     "output_type": "stream",
     "text": [
      "19/19 [==============================] - 1s 1ms/step\n"
     ]
    }
   ],
   "source": [
    "y_pred = model1.predict(val_X, verbose=1)\n",
    "y_pred = np.argmax(y_pred,axis=1)\n",
    "rnn_acc = accuracy_score(y_pred, val_y)\n",
    "rnn_prec = precision_score(y_pred, val_y,average='weighted')\n",
    "rnn_rec = recall_score(y_pred, val_y,average='weighted')\n",
    "rnn_f1 = f1_score(y_pred, val_y,average='weighted')"
   ]
  },
  {
   "cell_type": "code",
   "execution_count": 146,
   "metadata": {},
   "outputs": [],
   "source": [
    "storeResults('RNN',rnn_acc,rnn_prec,rnn_rec,rnn_f1)"
   ]
  },
  {
   "cell_type": "code",
   "execution_count": 126,
   "metadata": {},
   "outputs": [
    {
     "data": {
      "image/png": "[encoded data removed]",
      "text/plain": [
       "<Figure size 432x288 with 2 Axes>"
      ]
     },
     "metadata": {
      "needs_background": "light"
     },
     "output_type": "display_data"
    }
   ],
   "source": [
    "# plot loss during training\n",
    "from matplotlib import pyplot\n",
    "pyplot.subplot(211)\n",
    "pyplot.title('Loss')\n",
    "pyplot.plot(history.history['loss'], label='train')\n",
    "pyplot.plot(history.history['val_loss'], label='test')\n",
    "pyplot.legend()\n",
    "# plot accuracy during training\n",
    "pyplot.subplot(212)\n",
    "pyplot.title('Accuracy')\n",
    "pyplot.plot(history.history['accuracy'], label='train')\n",
    "pyplot.plot(history.history['val_accuracy'], label='test')\n",
    "pyplot.legend()\n",
    "pyplot.show()"
   ]
  },
  {
   "cell_type": "markdown",
   "metadata": {},
   "source": [
    "# LSTM - AE"
   ]
  },
  {
   "cell_type": "code",
   "execution_count": 127,
   "metadata": {},
   "outputs": [],
   "source": [
    "from sklearn.preprocessing import MinMaxScaler\n",
    "import joblib\n",
    "import seaborn as sns\n",
    "sns.set(color_codes=True)\n",
    "import matplotlib.pyplot as plt\n",
    "%matplotlib inline\n",
    "\n",
    "from numpy.random import seed\n",
    "\n",
    "import tensorflow as tf\n",
    "\n",
    "from keras.layers import Input, Dropout, Dense, LSTM, TimeDistributed, RepeatVector\n",
    "from keras.models import Model\n",
    "from keras import regularizers"
   ]
  },
  {
   "cell_type": "code",
   "execution_count": 128,
   "metadata": {},
   "outputs": [],
   "source": [
    "from sklearn.model_selection import train_test_split\n",
    "x_train1, x_test1 = train_test_split(X_res, test_size = 0.2, random_state = 0)\n",
    "\n",
    "y_train1, y_test1 = train_test_split(y_res, test_size = 0.2, random_state = 0)"
   ]
  },
  {
   "cell_type": "code",
   "execution_count": 129,
   "metadata": {},
   "outputs": [
    {
     "data": {
      "text/plain": [
       "['scaler_data']"
      ]
     },
     "execution_count": 129,
     "metadata": {},
     "output_type": "execute_result"
    }
   ],
   "source": [
    "# normalize the data\n",
    "scaler = MinMaxScaler()\n",
    "x_train = scaler.fit_transform(x_train1)\n",
    "x_test = scaler.transform(x_test1)\n",
    "scaler_filename = \"scaler_data\"\n",
    "joblib.dump(scaler, scaler_filename)"
   ]
  },
  {
   "cell_type": "code",
   "execution_count": 130,
   "metadata": {},
   "outputs": [
    {
     "name": "stdout",
     "output_type": "stream",
     "text": [
      "Training data shape: (1595, 1, 17)\n",
      "Test data shape: (399, 1, 17)\n"
     ]
    }
   ],
   "source": [
    "# reshape inputs for LSTM [samples, timesteps, features]\n",
    "X_train1 = x_train.reshape(x_train.shape[0], 1, x_train.shape[1])\n",
    "print(\"Training data shape:\", X_train1.shape)\n",
    "X_test1 = x_test.reshape(x_test.shape[0], 1, x_test.shape[1])\n",
    "print(\"Test data shape:\", X_test1.shape)"
   ]
  },
  {
   "cell_type": "code",
   "execution_count": 131,
   "metadata": {},
   "outputs": [],
   "source": [
    "# define the autoencoder network model\n",
    "def autoencoder_model(X):\n",
    "    inputs = Input(shape=(X.shape[1], X.shape[2]))\n",
    "    L1 = LSTM(16, activation='relu', return_sequences=True, \n",
    "              kernel_regularizer=regularizers.l2(0.00))(inputs)\n",
    "    L2 = LSTM(4, activation='relu', return_sequences=False)(L1)\n",
    "    L3 = RepeatVector(X.shape[1])(L2)\n",
    "    L4 = LSTM(4, activation='relu', return_sequences=True)(L3)\n",
    "    L5 = LSTM(16, activation='relu', return_sequences=True)(L4)\n",
    "    output = TimeDistributed(Dense(X.shape[2]))(L5)    \n",
    "    model = Model(inputs=inputs, outputs=output)\n",
    "    return model"
   ]
  },
  {
   "cell_type": "code",
   "execution_count": 132,
   "metadata": {},
   "outputs": [
    {
     "name": "stdout",
     "output_type": "stream",
     "text": [
      "Model: \"model_4\"\n",
      "_________________________________________________________________\n",
      "Layer (type)                 Output Shape              Param #   \n",
      "=================================================================\n",
      "input_5 (InputLayer)         [(None, 1, 17)]           0         \n",
      "_________________________________________________________________\n",
      "lstm_2 (LSTM)                (None, 1, 16)             2176      \n",
      "_________________________________________________________________\n",
      "lstm_3 (LSTM)                (None, 4)                 336       \n",
      "_________________________________________________________________\n",
      "repeat_vector (RepeatVector) (None, 1, 4)              0         \n",
      "_________________________________________________________________\n",
      "lstm_4 (LSTM)                (None, 1, 4)              144       \n",
      "_________________________________________________________________\n",
      "lstm_5 (LSTM)                (None, 1, 16)             1344      \n",
      "_________________________________________________________________\n",
      "time_distributed (TimeDistri (None, 1, 17)             289       \n",
      "=================================================================\n",
      "Total params: 4,289\n",
      "Trainable params: 4,289\n",
      "Non-trainable params: 0\n",
      "_________________________________________________________________\n"
     ]
    }
   ],
   "source": [
    "# create the autoencoder model\n",
    "model_tl = autoencoder_model(X_train1)\n",
    "model_tl.compile(optimizer='adam', loss='mae')\n",
    "model_tl.summary()"
   ]
  },
  {
   "cell_type": "code",
   "execution_count": 133,
   "metadata": {},
   "outputs": [
    {
     "name": "stdout",
     "output_type": "stream",
     "text": [
      "Epoch 1/50\n",
      "758/758 [==============================] - 15s 5ms/step - loss: 0.2096 - val_loss: 0.1228\n",
      "Epoch 2/50\n",
      "758/758 [==============================] - 2s 3ms/step - loss: 0.1237 - val_loss: 0.1206\n",
      "Epoch 3/50\n",
      "758/758 [==============================] - 2s 3ms/step - loss: 0.1211 - val_loss: 0.1176\n",
      "Epoch 4/50\n",
      "758/758 [==============================] - 2s 3ms/step - loss: 0.1176 - val_loss: 0.1137\n",
      "Epoch 5/50\n",
      "758/758 [==============================] - 2s 3ms/step - loss: 0.1096 - val_loss: 0.1047\n",
      "Epoch 6/50\n",
      "758/758 [==============================] - 2s 3ms/step - loss: 0.1001 - val_loss: 0.1011\n",
      "Epoch 7/50\n",
      "758/758 [==============================] - 3s 4ms/step - loss: 0.0994 - val_loss: 0.1006\n",
      "Epoch 8/50\n",
      "758/758 [==============================] - 3s 4ms/step - loss: 0.0998 - val_loss: 0.1013\n",
      "Epoch 9/50\n",
      "758/758 [==============================] - 3s 4ms/step - loss: 0.0991 - val_loss: 0.1006\n",
      "Epoch 10/50\n",
      "758/758 [==============================] - 3s 4ms/step - loss: 0.0980 - val_loss: 0.1007\n",
      "Epoch 11/50\n",
      "758/758 [==============================] - 3s 4ms/step - loss: 0.0989 - val_loss: 0.1004\n",
      "Epoch 12/50\n",
      "758/758 [==============================] - 3s 4ms/step - loss: 0.0992 - val_loss: 0.1003\n",
      "Epoch 13/50\n",
      "758/758 [==============================] - 3s 4ms/step - loss: 0.0970 - val_loss: 0.0999\n",
      "Epoch 14/50\n",
      "758/758 [==============================] - 3s 4ms/step - loss: 0.1010 - val_loss: 0.1000\n",
      "Epoch 15/50\n",
      "758/758 [==============================] - 3s 3ms/step - loss: 0.0990 - val_loss: 0.0997\n",
      "Epoch 16/50\n",
      "758/758 [==============================] - 3s 4ms/step - loss: 0.0974 - val_loss: 0.1002\n",
      "Epoch 17/50\n",
      "758/758 [==============================] - 3s 4ms/step - loss: 0.0980 - val_loss: 0.1000\n",
      "Epoch 18/50\n",
      "758/758 [==============================] - 3s 4ms/step - loss: 0.0985 - val_loss: 0.0995\n",
      "Epoch 19/50\n",
      "758/758 [==============================] - 3s 3ms/step - loss: 0.0986 - val_loss: 0.0995\n",
      "Epoch 20/50\n",
      "758/758 [==============================] - 3s 4ms/step - loss: 0.0998 - val_loss: 0.0997\n",
      "Epoch 21/50\n",
      "758/758 [==============================] - 3s 4ms/step - loss: 0.0968 - val_loss: 0.1000\n",
      "Epoch 22/50\n",
      "758/758 [==============================] - 3s 3ms/step - loss: 0.0970 - val_loss: 0.1004\n",
      "Epoch 23/50\n",
      "758/758 [==============================] - 3s 4ms/step - loss: 0.0988 - val_loss: 0.0993\n",
      "Epoch 24/50\n",
      "758/758 [==============================] - 3s 4ms/step - loss: 0.0978 - val_loss: 0.0992\n",
      "Epoch 25/50\n",
      "758/758 [==============================] - 3s 4ms/step - loss: 0.0986 - val_loss: 0.0997\n",
      "Epoch 26/50\n",
      "758/758 [==============================] - 3s 3ms/step - loss: 0.1004 - val_loss: 0.1000\n",
      "Epoch 27/50\n",
      "758/758 [==============================] - 3s 4ms/step - loss: 0.0953 - val_loss: 0.0999\n",
      "Epoch 28/50\n",
      "758/758 [==============================] - 3s 4ms/step - loss: 0.0991 - val_loss: 0.0991\n",
      "Epoch 29/50\n",
      "758/758 [==============================] - 3s 4ms/step - loss: 0.0988 - val_loss: 0.1001\n",
      "Epoch 30/50\n",
      "758/758 [==============================] - 3s 4ms/step - loss: 0.0973 - val_loss: 0.0998\n",
      "Epoch 31/50\n",
      "758/758 [==============================] - 3s 4ms/step - loss: 0.0991 - val_loss: 0.0997\n",
      "Epoch 32/50\n",
      "758/758 [==============================] - 3s 4ms/step - loss: 0.0978 - val_loss: 0.0995\n",
      "Epoch 33/50\n",
      "758/758 [==============================] - 3s 4ms/step - loss: 0.0979 - val_loss: 0.0996\n",
      "Epoch 34/50\n",
      "758/758 [==============================] - 3s 3ms/step - loss: 0.0990 - val_loss: 0.1008\n",
      "Epoch 35/50\n",
      "758/758 [==============================] - 3s 4ms/step - loss: 0.0982 - val_loss: 0.0992\n",
      "Epoch 36/50\n",
      "758/758 [==============================] - 3s 4ms/step - loss: 0.0983 - val_loss: 0.0997\n",
      "Epoch 37/50\n",
      "758/758 [==============================] - 3s 4ms/step - loss: 0.0976 - val_loss: 0.0992\n",
      "Epoch 38/50\n",
      "758/758 [==============================] - 3s 3ms/step - loss: 0.0975 - val_loss: 0.0994\n",
      "Epoch 39/50\n",
      "758/758 [==============================] - 3s 4ms/step - loss: 0.0982 - val_loss: 0.0988\n",
      "Epoch 40/50\n",
      "758/758 [==============================] - 3s 4ms/step - loss: 0.0977 - val_loss: 0.0994\n",
      "Epoch 41/50\n",
      "758/758 [==============================] - 3s 3ms/step - loss: 0.0972 - val_loss: 0.0993\n",
      "Epoch 42/50\n",
      "758/758 [==============================] - 3s 4ms/step - loss: 0.0973 - val_loss: 0.0986\n",
      "Epoch 43/50\n",
      "758/758 [==============================] - 3s 4ms/step - loss: 0.0973 - val_loss: 0.0980\n",
      "Epoch 44/50\n",
      "758/758 [==============================] - 3s 4ms/step - loss: 0.0975 - val_loss: 0.0977\n",
      "Epoch 45/50\n",
      "758/758 [==============================] - 3s 3ms/step - loss: 0.0986 - val_loss: 0.0970\n",
      "Epoch 46/50\n",
      "758/758 [==============================] - 3s 4ms/step - loss: 0.0963 - val_loss: 0.0964\n",
      "Epoch 47/50\n",
      "758/758 [==============================] - 3s 4ms/step - loss: 0.0961 - val_loss: 0.0956\n",
      "Epoch 48/50\n",
      "758/758 [==============================] - 3s 4ms/step - loss: 0.0951 - val_loss: 0.0949\n",
      "Epoch 49/50\n",
      "758/758 [==============================] - 3s 3ms/step - loss: 0.0942 - val_loss: 0.0949\n",
      "Epoch 50/50\n",
      "758/758 [==============================] - 3s 4ms/step - loss: 0.0918 - val_loss: 0.0951\n"
     ]
    }
   ],
   "source": [
    "nb_epochs = 50\n",
    "batch_size = 2\n",
    "history = model_tl.fit(X_train1, X_train1, epochs=nb_epochs, batch_size=batch_size,validation_split=0.05).history"
   ]
  },
  {
   "cell_type": "code",
   "execution_count": 134,
   "metadata": {},
   "outputs": [
    {
     "data": {
      "image/png": "[encoded data removed]",
      "text/plain": [
       "<Figure size 1120x480 with 1 Axes>"
      ]
     },
     "metadata": {
      "needs_background": "light"
     },
     "output_type": "display_data"
    }
   ],
   "source": [
    "# plot the training losses\n",
    "fig, ax = plt.subplots(figsize=(14, 6), dpi=80)\n",
    "ax.plot(history['loss'], 'b', label='Train', linewidth=2)\n",
    "ax.plot(history['val_loss'], 'r', label='Validation', linewidth=2)\n",
    "ax.set_title('Model loss', fontsize=16)\n",
    "ax.set_ylabel('Loss (mae)')\n",
    "ax.set_xlabel('Epoch')\n",
    "ax.legend(loc='upper right')\n",
    "plt.show()"
   ]
  },
  {
   "cell_type": "code",
   "execution_count": 140,
   "metadata": {},
   "outputs": [],
   "source": [
    "y_pred=model_tl.predict(X_test1)\n",
    "y_pred = np.argmax(y_pred,axis=1)"
   ]
  },
  {
   "cell_type": "code",
   "execution_count": 141,
   "metadata": {},
   "outputs": [],
   "source": [
    "tl_acc = 1 - history['loss'][49]\n",
    "tl_prec = precision_score(y_pred, y_test1,average='weighted')\n",
    "tl_rec = recall_score(y_pred, y_test1,average='weighted')\n",
    "tl_f1 = f1_score(y_pred, y_test1,average='weighted')"
   ]
  },
  {
   "cell_type": "code",
   "execution_count": 147,
   "metadata": {},
   "outputs": [],
   "source": [
    "storeResults('LSTM-AE',tl_acc,tl_prec,tl_rec,tl_f1)"
   ]
  },
  {
   "cell_type": "markdown",
   "metadata": {},
   "source": [
    "# Comparison"
   ]
  },
  {
   "cell_type": "code",
   "execution_count": 157,
   "metadata": {},
   "outputs": [],
   "source": [
    "#creating dataframe\n",
    "result = pd.DataFrame({ 'ML Model' : ML_Model,\n",
    "                        'Accuracy' : accuracy,\n",
    "                        'Precision': precision,\n",
    "                        'Recall'   : recall,\n",
    "                        'F1-Score': f1score,\n",
    "                        \n",
    "                      })"
   ]
  },
  {
   "cell_type": "code",
   "execution_count": 158,
   "metadata": {},
   "outputs": [
    {
     "data": {
      "text/html": [
       "<div>\n",
       "<style scoped>\n",
       "    .dataframe tbody tr th:only-of-type {\n",
       "        vertical-align: middle;\n",
       "    }\n",
       "\n",
       "    .dataframe tbody tr th {\n",
       "        vertical-align: top;\n",
       "    }\n",
       "\n",
       "    .dataframe thead th {\n",
       "        text-align: right;\n",
       "    }\n",
       "</style>\n",
       "<table border=\"1\" class=\"dataframe\">\n",
       "  <thead>\n",
       "    <tr style=\"text-align: right;\">\n",
       "      <th></th>\n",
       "      <th>ML Model</th>\n",
       "      <th>Accuracy</th>\n",
       "      <th>Precision</th>\n",
       "      <th>Recall</th>\n",
       "      <th>F1-Score</th>\n",
       "    </tr>\n",
       "  </thead>\n",
       "  <tbody>\n",
       "    <tr>\n",
       "      <td>0</td>\n",
       "      <td>Logistic Regression</td>\n",
       "      <td>0.749</td>\n",
       "      <td>0.749</td>\n",
       "      <td>0.749</td>\n",
       "      <td>0.749</td>\n",
       "    </tr>\n",
       "    <tr>\n",
       "      <td>1</td>\n",
       "      <td>Random FOrest</td>\n",
       "      <td>0.920</td>\n",
       "      <td>0.921</td>\n",
       "      <td>0.920</td>\n",
       "      <td>0.920</td>\n",
       "    </tr>\n",
       "    <tr>\n",
       "      <td>2</td>\n",
       "      <td>XGBoost</td>\n",
       "      <td>0.920</td>\n",
       "      <td>0.920</td>\n",
       "      <td>0.920</td>\n",
       "      <td>0.920</td>\n",
       "    </tr>\n",
       "    <tr>\n",
       "      <td>3</td>\n",
       "      <td>RNN</td>\n",
       "      <td>0.533</td>\n",
       "      <td>1.000</td>\n",
       "      <td>0.533</td>\n",
       "      <td>0.695</td>\n",
       "    </tr>\n",
       "    <tr>\n",
       "      <td>4</td>\n",
       "      <td>LSTM-AE</td>\n",
       "      <td>0.906</td>\n",
       "      <td>1.000</td>\n",
       "      <td>0.546</td>\n",
       "      <td>0.707</td>\n",
       "    </tr>\n",
       "    <tr>\n",
       "      <td>5</td>\n",
       "      <td>Stacking Classifier</td>\n",
       "      <td>0.875</td>\n",
       "      <td>0.875</td>\n",
       "      <td>0.875</td>\n",
       "      <td>0.875</td>\n",
       "    </tr>\n",
       "    <tr>\n",
       "      <td>6</td>\n",
       "      <td>Voting Classifier</td>\n",
       "      <td>1.000</td>\n",
       "      <td>1.000</td>\n",
       "      <td>1.000</td>\n",
       "      <td>1.000</td>\n",
       "    </tr>\n",
       "  </tbody>\n",
       "</table>\n",
       "</div>"
      ],
      "text/plain": [
       "              ML Model  Accuracy  Precision  Recall  F1-Score\n",
       "0  Logistic Regression     0.749      0.749   0.749     0.749\n",
       "1        Random FOrest     0.920      0.921   0.920     0.920\n",
       "2              XGBoost     0.920      0.920   0.920     0.920\n",
       "3                  RNN     0.533      1.000   0.533     0.695\n",
       "4              LSTM-AE     0.906      1.000   0.546     0.707\n",
       "5  Stacking Classifier     0.875      0.875   0.875     0.875\n",
       "6    Voting Classifier     1.000      1.000   1.000     1.000"
      ]
     },
     "execution_count": 158,
     "metadata": {},
     "output_type": "execute_result"
    }
   ],
   "source": [
    "result"
   ]
  },
  {
   "cell_type": "markdown",
   "metadata": {},
   "source": [
    "# MOdelling"
   ]
  },
  {
   "cell_type": "code",
   "execution_count": 93,
   "metadata": {},
   "outputs": [
    {
     "data": {
      "text/plain": [
       "['model.sav']"
      ]
     },
     "execution_count": 93,
     "metadata": {},
     "output_type": "execute_result"
    }
   ],
   "source": [
    "import joblib\n",
    "\n",
    "filename1 = 'model.sav'\n",
    "\n",
    "joblib.dump(eclf1, filename1)"
   ]
  },
  {
   "cell_type": "markdown",
   "metadata": {},
   "source": [
    "# Graph"
   ]
  },
  {
   "cell_type": "code",
   "execution_count": 150,
   "metadata": {},
   "outputs": [],
   "source": [
    "classifier = ML_Model\n",
    "y_pos = np.arange(len(classifier))"
   ]
  },
  {
   "cell_type": "markdown",
   "metadata": {},
   "source": [
    "# Accuracy"
   ]
  },
  {
   "cell_type": "code",
   "execution_count": 151,
   "metadata": {},
   "outputs": [
    {
     "data": {
      "image/png": "[encoded data removed]",
      "text/plain": [
       "<Figure size 432x288 with 1 Axes>"
      ]
     },
     "metadata": {
      "needs_background": "light"
     },
     "output_type": "display_data"
    }
   ],
   "source": [
    "import matplotlib.pyplot as plt2\n",
    "plt2.barh(y_pos, accuracy, align='center', alpha=0.5,color='blue')\n",
    "plt2.yticks(y_pos, classifier)\n",
    "plt2.xlabel('Accuracy Score')\n",
    "plt2.title('Classification Performance')\n",
    "plt2.show()"
   ]
  },
  {
   "cell_type": "markdown",
   "metadata": {},
   "source": [
    "# Precision"
   ]
  },
  {
   "cell_type": "code",
   "execution_count": 152,
   "metadata": {},
   "outputs": [
    {
     "data": {
      "image/png": "[encoded data removed]",
      "text/plain": [
       "<Figure size 432x288 with 1 Axes>"
      ]
     },
     "metadata": {
      "needs_background": "light"
     },
     "output_type": "display_data"
    }
   ],
   "source": [
    "plt2.barh(y_pos, precision, align='center', alpha=0.5,color='red')\n",
    "plt2.yticks(y_pos, classifier)\n",
    "plt2.xlabel('Precision Score')\n",
    "plt2.title('Classification Performance')\n",
    "plt2.show()"
   ]
  },
  {
   "cell_type": "markdown",
   "metadata": {},
   "source": [
    "# Recall"
   ]
  },
  {
   "cell_type": "code",
   "execution_count": 153,
   "metadata": {},
   "outputs": [
    {
     "data": {
      "image/png": "[encoded data removed]",
      "text/plain": [
       "<Figure size 432x288 with 1 Axes>"
      ]
     },
     "metadata": {
      "needs_background": "light"
     },
     "output_type": "display_data"
    }
   ],
   "source": [
    "plt2.barh(y_pos, recall, align='center', alpha=0.5,color='cyan')\n",
    "plt2.yticks(y_pos, classifier)\n",
    "plt2.xlabel('Recall Score')\n",
    "plt2.title('Classification Performance')\n",
    "plt2.show()"
   ]
  },
  {
   "cell_type": "markdown",
   "metadata": {},
   "source": [
    "# F1 Score"
   ]
  },
  {
   "cell_type": "code",
   "execution_count": 154,
   "metadata": {},
   "outputs": [
    {
     "data": {
      "image/png": "[encoded data removed]",
      "text/plain": [
       "<Figure size 432x288 with 1 Axes>"
      ]
     },
     "metadata": {
      "needs_background": "light"
     },
     "output_type": "display_data"
    }
   ],
   "source": [
    "plt2.barh(y_pos, f1score, align='center', alpha=0.5,color='magenta')\n",
    "plt2.yticks(y_pos, classifier)\n",
    "plt2.xlabel('F1 Score')\n",
    "plt2.title('Classification Performance')\n",
    "plt2.show()"
   ]
  },
  {
   "cell_type": "code",
   "execution_count": null,
   "metadata": {},
   "outputs": [],
   "source": []
  }
 ],
 "metadata": {
  "kernelspec": {
   "display_name": "Python 3 (ipykernel)",
   "language": "python",
   "name": "python3"
  },
  "language_info": {
   "codemirror_mode": {
    "name": "ipython",
    "version": 3
   },
   "file_extension": ".py",
   "mimetype": "text/x-python",
   "name": "python",
   "nbconvert_exporter": "python",
   "pygments_lexer": "ipython3",
   "version": "3.11.7"
  }
 },
 "nbformat": 4,
 "nbformat_minor": 4
}
